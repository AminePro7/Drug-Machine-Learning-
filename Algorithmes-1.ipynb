{
 "cells": [
  {
   "cell_type": "code",
   "execution_count": 1,
   "id": "354eea37",
   "metadata": {},
   "outputs": [],
   "source": [
    "#Importing Libraries\n",
    "import pandas as pd\n"
   ]
  },
  {
   "cell_type": "code",
   "execution_count": 2,
   "id": "d8c89a56",
   "metadata": {},
   "outputs": [
    {
     "data": {
      "text/html": [
       "<div>\n",
       "<style scoped>\n",
       "    .dataframe tbody tr th:only-of-type {\n",
       "        vertical-align: middle;\n",
       "    }\n",
       "\n",
       "    .dataframe tbody tr th {\n",
       "        vertical-align: top;\n",
       "    }\n",
       "\n",
       "    .dataframe thead th {\n",
       "        text-align: right;\n",
       "    }\n",
       "</style>\n",
       "<table border=\"1\" class=\"dataframe\">\n",
       "  <thead>\n",
       "    <tr style=\"text-align: right;\">\n",
       "      <th></th>\n",
       "      <th>Age</th>\n",
       "      <th>Sex</th>\n",
       "      <th>BP</th>\n",
       "      <th>Cholesterol</th>\n",
       "      <th>Na_to_K</th>\n",
       "      <th>Drug</th>\n",
       "    </tr>\n",
       "  </thead>\n",
       "  <tbody>\n",
       "    <tr>\n",
       "      <th>0</th>\n",
       "      <td>23</td>\n",
       "      <td>F</td>\n",
       "      <td>HIGH</td>\n",
       "      <td>HIGH</td>\n",
       "      <td>25.355</td>\n",
       "      <td>DrugY</td>\n",
       "    </tr>\n",
       "    <tr>\n",
       "      <th>1</th>\n",
       "      <td>47</td>\n",
       "      <td>M</td>\n",
       "      <td>LOW</td>\n",
       "      <td>HIGH</td>\n",
       "      <td>13.093</td>\n",
       "      <td>drugC</td>\n",
       "    </tr>\n",
       "    <tr>\n",
       "      <th>2</th>\n",
       "      <td>47</td>\n",
       "      <td>M</td>\n",
       "      <td>LOW</td>\n",
       "      <td>HIGH</td>\n",
       "      <td>10.114</td>\n",
       "      <td>drugC</td>\n",
       "    </tr>\n",
       "    <tr>\n",
       "      <th>3</th>\n",
       "      <td>28</td>\n",
       "      <td>F</td>\n",
       "      <td>NORMAL</td>\n",
       "      <td>HIGH</td>\n",
       "      <td>7.798</td>\n",
       "      <td>drugX</td>\n",
       "    </tr>\n",
       "    <tr>\n",
       "      <th>4</th>\n",
       "      <td>61</td>\n",
       "      <td>F</td>\n",
       "      <td>LOW</td>\n",
       "      <td>HIGH</td>\n",
       "      <td>18.043</td>\n",
       "      <td>DrugY</td>\n",
       "    </tr>\n",
       "  </tbody>\n",
       "</table>\n",
       "</div>"
      ],
      "text/plain": [
       "   Age Sex      BP Cholesterol  Na_to_K   Drug\n",
       "0   23   F    HIGH        HIGH   25.355  DrugY\n",
       "1   47   M     LOW        HIGH   13.093  drugC\n",
       "2   47   M     LOW        HIGH   10.114  drugC\n",
       "3   28   F  NORMAL        HIGH    7.798  drugX\n",
       "4   61   F     LOW        HIGH   18.043  DrugY"
      ]
     },
     "execution_count": 2,
     "metadata": {},
     "output_type": "execute_result"
    }
   ],
   "source": [
    "#Reading Data Set\n",
    "df = pd.read_csv(\"drug200.csv\")\n",
    "df.head()\n"
   ]
  },
  {
   "cell_type": "code",
   "execution_count": 3,
   "id": "52337c35",
   "metadata": {},
   "outputs": [
    {
     "name": "stdout",
     "output_type": "stream",
     "text": [
      "x_train shape: (160, 5)\n",
      "x_test shape: (40, 5)\n",
      "y_train shape: (160, 1)\n",
      "y_test shape: (40, 1)\n"
     ]
    }
   ],
   "source": [
    "#Separation des données d'entrainement et données de test\n",
    "#On les divise en 80% pour les données d'entrainement et 20 % pour les données de test\n",
    "from sklearn.model_selection import train_test_split\n",
    "\n",
    "x = df.drop([\"Drug\"],axis=1)\n",
    "y = df.Drug\n",
    "\n",
    "x_train, x_test, y_train, y_test = train_test_split(x,y,test_size = 0.2, random_state = 42, shuffle = True)\n",
    "\n",
    "y_train = y_train.values.reshape(-1,1)\n",
    "y_test = y_test.values.reshape(-1,1)\n",
    "\n",
    "print(\"x_train shape:\",x_train.shape)\n",
    "print(\"x_test shape:\",x_test.shape)\n",
    "print(\"y_train shape:\",y_train.shape)\n",
    "print(\"y_test shape:\",y_test.shape)\n"
   ]
  },
  {
   "cell_type": "code",
   "execution_count": 4,
   "id": "e738e2ec",
   "metadata": {},
   "outputs": [],
   "source": [
    "from imblearn.over_sampling import SMOTE\n",
    "\n",
    "\n",
    "x_train = pd.get_dummies(pd.DataFrame(x_train))\n",
    "x_test = pd.get_dummies(pd.DataFrame(x_test))\n",
    "x_train, y_train = SMOTE().fit_resample(x_train, y_train)\n",
    "\n"
   ]
  },
  {
   "cell_type": "code",
   "execution_count": 5,
   "id": "73166b6c",
   "metadata": {},
   "outputs": [],
   "source": [
    "#L'implementation des modèles \n",
    "\n",
    "# Pour stocker les resultats des modeles \n",
    "result_dict_train = {}\n",
    "result_dict_test = {}"
   ]
  },
  {
   "cell_type": "code",
   "execution_count": 6,
   "id": "c11795bf",
   "metadata": {},
   "outputs": [
    {
     "name": "stdout",
     "output_type": "stream",
     "text": [
      "Train Score: 0.7842105263157895\n",
      "Test Score: 0.65\n",
      "              precision    recall  f1-score   support\n",
      "\n",
      "       DrugY       1.00      0.93      0.97        15\n",
      "       drugA       0.56      0.83      0.67         6\n",
      "       drugB       0.33      0.67      0.44         3\n",
      "       drugC       0.43      0.60      0.50         5\n",
      "       drugX       0.50      0.18      0.27        11\n",
      "\n",
      "    accuracy                           0.65        40\n",
      "   macro avg       0.56      0.64      0.57        40\n",
      "weighted avg       0.67      0.65      0.63        40\n",
      "\n",
      "[[14  0  0  1  0]\n",
      " [ 0  5  0  0  1]\n",
      " [ 0  0  2  0  1]\n",
      " [ 0  2  0  3  0]\n",
      " [ 0  2  4  3  2]]\n",
      "KNN accuracy is: 65.00%\n"
     ]
    }
   ],
   "source": [
    "#Classification KNN\n",
    "import numpy as np \n",
    "from sklearn.neighbors import KNeighborsClassifier\n",
    "from sklearn.model_selection import cross_val_score\n",
    "\n",
    "knn = KNeighborsClassifier()\n",
    "accuracies = cross_val_score(knn, x_train, y_train, cv=5)\n",
    "knn.fit(x_train,y_train)\n",
    "\n",
    "print(\"Train Score:\",np.mean(accuracies))\n",
    "print(\"Test Score:\",knn.score(x_test,y_test))\n",
    "\n",
    "\n",
    "#Prediction\n",
    "from sklearn.metrics import accuracy_score\n",
    "y_pred = knn.predict(x_test)\n",
    "\n",
    "from sklearn.metrics import confusion_matrix\n",
    "from sklearn.metrics import classification_report\n",
    "#Le rapport de la classification\n",
    "print(classification_report(y_test, y_pred))\n",
    "#La matrice de confusion\n",
    "print(confusion_matrix(y_test, y_pred))\n",
    "\n",
    "\n",
    "#Accuracy\n",
    "KNN_Acc = accuracy_score(y_pred,y_test)\n",
    "print('KNN accuracy is: {:.2f}%'.format(KNN_Acc*100))"
   ]
  },
  {
   "cell_type": "code",
   "execution_count": 7,
   "id": "07f40cff",
   "metadata": {},
   "outputs": [],
   "source": [
    "#Stockage\n",
    "result_dict_train[\"Classification KNN\"] = np.mean(accuracies)\n",
    "result_dict_test[\"Classification KNN\"] = knn.score(x_test,y_test)"
   ]
  },
  {
   "cell_type": "code",
   "execution_count": 8,
   "id": "021d33a1",
   "metadata": {},
   "outputs": [
    {
     "name": "stdout",
     "output_type": "stream",
     "text": [
      "Train Score: 0.9973684210526315\n",
      "Test Score: 1.0\n",
      "              precision    recall  f1-score   support\n",
      "\n",
      "       DrugY       1.00      1.00      1.00        15\n",
      "       drugA       1.00      1.00      1.00         6\n",
      "       drugB       1.00      1.00      1.00         3\n",
      "       drugC       1.00      1.00      1.00         5\n",
      "       drugX       1.00      1.00      1.00        11\n",
      "\n",
      "    accuracy                           1.00        40\n",
      "   macro avg       1.00      1.00      1.00        40\n",
      "weighted avg       1.00      1.00      1.00        40\n",
      "\n",
      "[[15  0  0  0  0]\n",
      " [ 0  6  0  0  0]\n",
      " [ 0  0  3  0  0]\n",
      " [ 0  0  0  5  0]\n",
      " [ 0  0  0  0 11]]\n",
      "RF accuracy is: 100.00%\n"
     ]
    }
   ],
   "source": [
    "#Random Forest\n",
    "from sklearn.ensemble import RandomForestClassifier\n",
    "\n",
    "rfc = RandomForestClassifier(random_state = 42)\n",
    "accuracies = cross_val_score(rfc, x_train, y_train, cv=5)\n",
    "rfc.fit(x_train,y_train)\n",
    "\n",
    "print(\"Train Score:\",np.mean(accuracies))\n",
    "print(\"Test Score:\",rfc.score(x_test,y_test))\n",
    "\n",
    "#Prediction\n",
    "from sklearn.metrics import accuracy_score\n",
    "y_pred = rfc.predict(x_test)\n",
    "\n",
    "from sklearn.metrics import confusion_matrix\n",
    "from sklearn.metrics import classification_report\n",
    "#Le rapport de la classification\n",
    "print(classification_report(y_test, y_pred))\n",
    "#La matrice de confusion\n",
    "print(confusion_matrix(y_test, y_pred))\n",
    "\n",
    "\n",
    "#Accuracy\n",
    "RFC_Acc = accuracy_score(y_pred,y_test)\n",
    "print('RF accuracy is: {:.2f}%'.format(RFC_Acc*100))"
   ]
  },
  {
   "cell_type": "code",
   "execution_count": 9,
   "id": "f1a2e374",
   "metadata": {},
   "outputs": [],
   "source": [
    "#Stockage\n",
    "result_dict_train[\"Random Forest\"] = np.mean(accuracies)\n",
    "result_dict_test[\"Random Forest\"] = rfc.score(x_test,y_test)"
   ]
  },
  {
   "cell_type": "code",
   "execution_count": 10,
   "id": "6c3ee082",
   "metadata": {},
   "outputs": [
    {
     "name": "stdout",
     "output_type": "stream",
     "text": [
      "Train Score: 0.5263157894736843\n",
      "Test Score: 0.55\n",
      "              precision    recall  f1-score   support\n",
      "\n",
      "       DrugY       1.00      0.93      0.97        15\n",
      "       drugA       0.33      0.83      0.48         6\n",
      "       drugB       0.33      1.00      0.50         3\n",
      "       drugC       0.00      0.00      0.00         5\n",
      "       drugX       0.00      0.00      0.00        11\n",
      "\n",
      "    accuracy                           0.55        40\n",
      "   macro avg       0.33      0.55      0.39        40\n",
      "weighted avg       0.45      0.55      0.47        40\n",
      "\n",
      "[[14  1  0  0  0]\n",
      " [ 0  5  0  1  0]\n",
      " [ 0  0  3  0  0]\n",
      " [ 0  4  1  0  0]\n",
      " [ 0  5  5  1  0]]\n",
      "SVC accuracy is: 55.00%\n"
     ]
    },
    {
     "name": "stderr",
     "output_type": "stream",
     "text": [
      "C:\\Users\\Amine2001\\anaconda3\\lib\\site-packages\\sklearn\\metrics\\_classification.py:1334: UndefinedMetricWarning: Precision and F-score are ill-defined and being set to 0.0 in labels with no predicted samples. Use `zero_division` parameter to control this behavior.\n",
      "  _warn_prf(average, modifier, msg_start, len(result))\n",
      "C:\\Users\\Amine2001\\anaconda3\\lib\\site-packages\\sklearn\\metrics\\_classification.py:1334: UndefinedMetricWarning: Precision and F-score are ill-defined and being set to 0.0 in labels with no predicted samples. Use `zero_division` parameter to control this behavior.\n",
      "  _warn_prf(average, modifier, msg_start, len(result))\n",
      "C:\\Users\\Amine2001\\anaconda3\\lib\\site-packages\\sklearn\\metrics\\_classification.py:1334: UndefinedMetricWarning: Precision and F-score are ill-defined and being set to 0.0 in labels with no predicted samples. Use `zero_division` parameter to control this behavior.\n",
      "  _warn_prf(average, modifier, msg_start, len(result))\n"
     ]
    }
   ],
   "source": [
    "#SVC Classifier\n",
    "from sklearn.svm import SVC\n",
    "svc = SVC(random_state = 42)\n",
    "accuracies = cross_val_score(svc, x_train, y_train, cv=5)\n",
    "svc.fit(x_train,y_train)\n",
    "\n",
    "print(\"Train Score:\",np.mean(accuracies))\n",
    "print(\"Test Score:\",svc.score(x_test,y_test))\n",
    "\n",
    "#Prediction\n",
    "from sklearn.metrics import accuracy_score\n",
    "y_pred = svc.predict(x_test)\n",
    "\n",
    "from sklearn.metrics import confusion_matrix\n",
    "from sklearn.metrics import classification_report\n",
    "#Le rapport de la classification\n",
    "print(classification_report(y_test, y_pred))\n",
    "#La matrice de confusion\n",
    "print(confusion_matrix(y_test, y_pred))\n",
    "\n",
    "\n",
    "#Accuracy\n",
    "SVC_Acc = accuracy_score(y_pred,y_test)\n",
    "print('SVC accuracy is: {:.2f}%'.format(SVC_Acc*100))"
   ]
  },
  {
   "cell_type": "code",
   "execution_count": 11,
   "id": "846f91c8",
   "metadata": {},
   "outputs": [],
   "source": [
    "#Stockage\n",
    "result_dict_train[\"SVM Classifier\"] = np.mean(accuracies)\n",
    "result_dict_test[\"SVM Classifier\"] = svc.score(x_test,y_test)"
   ]
  },
  {
   "cell_type": "code",
   "execution_count": 12,
   "id": "a99141d0",
   "metadata": {},
   "outputs": [
    {
     "name": "stdout",
     "output_type": "stream",
     "text": [
      "Train Score: 0.9184210526315789\n",
      "Test Score: 0.95\n",
      "              precision    recall  f1-score   support\n",
      "\n",
      "       DrugY       1.00      0.93      0.97        15\n",
      "       drugA       0.83      0.83      0.83         6\n",
      "       drugB       0.75      1.00      0.86         3\n",
      "       drugC       1.00      1.00      1.00         5\n",
      "       drugX       1.00      1.00      1.00        11\n",
      "\n",
      "    accuracy                           0.95        40\n",
      "   macro avg       0.92      0.95      0.93        40\n",
      "weighted avg       0.96      0.95      0.95        40\n",
      "\n",
      "[[14  1  0  0  0]\n",
      " [ 0  5  1  0  0]\n",
      " [ 0  0  3  0  0]\n",
      " [ 0  0  0  5  0]\n",
      " [ 0  0  0  0 11]]\n",
      "LR accuracy is: 95.00%\n"
     ]
    }
   ],
   "source": [
    "from sklearn.linear_model import LogisticRegression\n",
    "log_reg = LogisticRegression(solver='liblinear', max_iter=5000)\n",
    "accuracies = cross_val_score(log_reg, x_train, y_train, cv=5)\n",
    "log_reg.fit(x_train, y_train)\n",
    "print(\"Train Score:\",np.mean(accuracies))\n",
    "print(\"Test Score:\",log_reg.score(x_test,y_test))\n",
    "\n",
    "#Prediction\n",
    "from sklearn.metrics import accuracy_score\n",
    "y_pred = log_reg.predict(x_test)\n",
    "\n",
    "from sklearn.metrics import confusion_matrix\n",
    "from sklearn.metrics import classification_report\n",
    "#Le rapport de la classification\n",
    "print(classification_report(y_test, y_pred))\n",
    "#La matrice de confusion\n",
    "print(confusion_matrix(y_test, y_pred))\n",
    "\n",
    "\n",
    "#Accuracy\n",
    "REG_Acc = accuracy_score(y_pred,y_test)\n",
    "print('LR accuracy is: {:.2f}%'.format(REG_Acc*100))"
   ]
  },
  {
   "cell_type": "code",
   "execution_count": 13,
   "id": "1175e151",
   "metadata": {},
   "outputs": [],
   "source": [
    "#Stockage\n",
    "result_dict_train[\"Logistic Regression\"] = np.mean(accuracies)\n",
    "result_dict_test[\"Logistic Regression\"] = log_reg.score(x_test,y_test)"
   ]
  },
  {
   "cell_type": "code",
   "execution_count": 14,
   "id": "ecdaa9f1",
   "metadata": {},
   "outputs": [
    {
     "name": "stdout",
     "output_type": "stream",
     "text": [
      "Train Score: 0.8868421052631579\n",
      "Test Score: 0.9\n",
      "              precision    recall  f1-score   support\n",
      "\n",
      "       DrugY       1.00      0.73      0.85        15\n",
      "       drugA       0.75      1.00      0.86         6\n",
      "       drugB       0.75      1.00      0.86         3\n",
      "       drugC       0.83      1.00      0.91         5\n",
      "       drugX       1.00      1.00      1.00        11\n",
      "\n",
      "    accuracy                           0.90        40\n",
      "   macro avg       0.87      0.95      0.89        40\n",
      "weighted avg       0.92      0.90      0.90        40\n",
      "\n",
      "[[11  2  1  1  0]\n",
      " [ 0  6  0  0  0]\n",
      " [ 0  0  3  0  0]\n",
      " [ 0  0  0  5  0]\n",
      " [ 0  0  0  0 11]]\n",
      "NB accuracy is: 90.00%\n"
     ]
    }
   ],
   "source": [
    "#Gaussian Naive Bayes\n",
    "from sklearn.naive_bayes import GaussianNB\n",
    "\n",
    "nb =GaussianNB()\n",
    "accuracies = cross_val_score(nb, x_train, y_train, cv=5)\n",
    "nb.fit(x_train, y_train)\n",
    "print(\"Train Score:\",np.mean(accuracies))\n",
    "print(\"Test Score:\",nb.score(x_test,y_test))\n",
    "\n",
    "#Prediction\n",
    "from sklearn.metrics import accuracy_score\n",
    "y_pred = nb.predict(x_test)\n",
    "\n",
    "from sklearn.metrics import confusion_matrix\n",
    "from sklearn.metrics import classification_report\n",
    "#Le rapport de la classification\n",
    "print(classification_report(y_test, y_pred))\n",
    "#La matrice de confusion\n",
    "print(confusion_matrix(y_test, y_pred))\n",
    "\n",
    "\n",
    "#Accuracy\n",
    "NB_Acc = accuracy_score(y_pred,y_test)\n",
    "print('NB accuracy is: {:.2f}%'.format(NB_Acc*100))"
   ]
  },
  {
   "cell_type": "code",
   "execution_count": 15,
   "id": "63395798",
   "metadata": {},
   "outputs": [],
   "source": [
    "#Stockage\n",
    "result_dict_train[\"Gaussian Naive Bayes\"] = np.mean(accuracies)\n",
    "result_dict_test[\"Gaussian Naive Bayes\"] = nb.score(x_test,y_test)"
   ]
  },
  {
   "cell_type": "code",
   "execution_count": 16,
   "id": "ceb73dc6",
   "metadata": {},
   "outputs": [
    {
     "data": {
      "text/html": [
       "<div>\n",
       "<style scoped>\n",
       "    .dataframe tbody tr th:only-of-type {\n",
       "        vertical-align: middle;\n",
       "    }\n",
       "\n",
       "    .dataframe tbody tr th {\n",
       "        vertical-align: top;\n",
       "    }\n",
       "\n",
       "    .dataframe thead th {\n",
       "        text-align: right;\n",
       "    }\n",
       "</style>\n",
       "<table border=\"1\" class=\"dataframe\">\n",
       "  <thead>\n",
       "    <tr style=\"text-align: right;\">\n",
       "      <th></th>\n",
       "      <th>Score</th>\n",
       "    </tr>\n",
       "  </thead>\n",
       "  <tbody>\n",
       "    <tr>\n",
       "      <th>Classification KNN</th>\n",
       "      <td>0.65</td>\n",
       "    </tr>\n",
       "    <tr>\n",
       "      <th>Random Forest</th>\n",
       "      <td>1.00</td>\n",
       "    </tr>\n",
       "    <tr>\n",
       "      <th>SVM Classifier</th>\n",
       "      <td>0.55</td>\n",
       "    </tr>\n",
       "    <tr>\n",
       "      <th>Logistic Regression</th>\n",
       "      <td>0.95</td>\n",
       "    </tr>\n",
       "    <tr>\n",
       "      <th>Gaussian Naive Bayes</th>\n",
       "      <td>0.90</td>\n",
       "    </tr>\n",
       "  </tbody>\n",
       "</table>\n",
       "</div>"
      ],
      "text/plain": [
       "                      Score\n",
       "Classification KNN     0.65\n",
       "Random Forest          1.00\n",
       "SVM Classifier         0.55\n",
       "Logistic Regression    0.95\n",
       "Gaussian Naive Bayes   0.90"
      ]
     },
     "execution_count": 16,
     "metadata": {},
     "output_type": "execute_result"
    }
   ],
   "source": [
    "df_result_test = pd.DataFrame.from_dict(result_dict_test,orient = \"index\",columns=[\"Score\"])\n",
    "df_result_test"
   ]
  },
  {
   "cell_type": "code",
   "execution_count": 17,
   "id": "cbf8751c",
   "metadata": {
    "scrolled": true
   },
   "outputs": [
    {
     "data": {
      "text/html": [
       "<div>\n",
       "<style scoped>\n",
       "    .dataframe tbody tr th:only-of-type {\n",
       "        vertical-align: middle;\n",
       "    }\n",
       "\n",
       "    .dataframe tbody tr th {\n",
       "        vertical-align: top;\n",
       "    }\n",
       "\n",
       "    .dataframe thead th {\n",
       "        text-align: right;\n",
       "    }\n",
       "</style>\n",
       "<table border=\"1\" class=\"dataframe\">\n",
       "  <thead>\n",
       "    <tr style=\"text-align: right;\">\n",
       "      <th></th>\n",
       "      <th>Score</th>\n",
       "    </tr>\n",
       "  </thead>\n",
       "  <tbody>\n",
       "    <tr>\n",
       "      <th>Classification KNN</th>\n",
       "      <td>0.784211</td>\n",
       "    </tr>\n",
       "    <tr>\n",
       "      <th>Random Forest</th>\n",
       "      <td>0.997368</td>\n",
       "    </tr>\n",
       "    <tr>\n",
       "      <th>SVM Classifier</th>\n",
       "      <td>0.526316</td>\n",
       "    </tr>\n",
       "    <tr>\n",
       "      <th>Logistic Regression</th>\n",
       "      <td>0.918421</td>\n",
       "    </tr>\n",
       "    <tr>\n",
       "      <th>Gaussian Naive Bayes</th>\n",
       "      <td>0.886842</td>\n",
       "    </tr>\n",
       "  </tbody>\n",
       "</table>\n",
       "</div>"
      ],
      "text/plain": [
       "                         Score\n",
       "Classification KNN    0.784211\n",
       "Random Forest         0.997368\n",
       "SVM Classifier        0.526316\n",
       "Logistic Regression   0.918421\n",
       "Gaussian Naive Bayes  0.886842"
      ]
     },
     "execution_count": 17,
     "metadata": {},
     "output_type": "execute_result"
    }
   ],
   "source": [
    "df_result_train = pd.DataFrame.from_dict(result_dict_train,orient = \"index\",columns=[\"Score\"])\n",
    "df_result_train"
   ]
  },
  {
   "cell_type": "code",
   "execution_count": 18,
   "id": "b90463dd",
   "metadata": {},
   "outputs": [
    {
     "ename": "NameError",
     "evalue": "name 'sns' is not defined",
     "output_type": "error",
     "traceback": [
      "\u001b[1;31m---------------------------------------------------------------------------\u001b[0m",
      "\u001b[1;31mNameError\u001b[0m                                 Traceback (most recent call last)",
      "Input \u001b[1;32mIn [18]\u001b[0m, in \u001b[0;36m<cell line: 5>\u001b[1;34m()\u001b[0m\n\u001b[0;32m      2\u001b[0m \u001b[38;5;28;01mimport\u001b[39;00m \u001b[38;5;21;01mmatplotlib\u001b[39;00m\u001b[38;5;21;01m.\u001b[39;00m\u001b[38;5;21;01mpyplot\u001b[39;00m \u001b[38;5;28;01mas\u001b[39;00m \u001b[38;5;21;01mplt\u001b[39;00m\n\u001b[0;32m      4\u001b[0m fig,ax \u001b[38;5;241m=\u001b[39m plt\u001b[38;5;241m.\u001b[39msubplots(\u001b[38;5;241m1\u001b[39m,\u001b[38;5;241m2\u001b[39m,figsize\u001b[38;5;241m=\u001b[39m(\u001b[38;5;241m20\u001b[39m,\u001b[38;5;241m5\u001b[39m))\n\u001b[1;32m----> 5\u001b[0m \u001b[43msns\u001b[49m\u001b[38;5;241m.\u001b[39mbarplot(x \u001b[38;5;241m=\u001b[39m df_result_train\u001b[38;5;241m.\u001b[39mindex,y \u001b[38;5;241m=\u001b[39m df_result_train\u001b[38;5;241m.\u001b[39mScore,ax \u001b[38;5;241m=\u001b[39m ax[\u001b[38;5;241m0\u001b[39m])\n\u001b[0;32m      6\u001b[0m sns\u001b[38;5;241m.\u001b[39mbarplot(x \u001b[38;5;241m=\u001b[39m df_result_test\u001b[38;5;241m.\u001b[39mindex,y \u001b[38;5;241m=\u001b[39m df_result_test\u001b[38;5;241m.\u001b[39mScore,ax \u001b[38;5;241m=\u001b[39m ax[\u001b[38;5;241m1\u001b[39m])\n\u001b[0;32m      7\u001b[0m ax[\u001b[38;5;241m0\u001b[39m]\u001b[38;5;241m.\u001b[39mset_xticklabels(df_result_train\u001b[38;5;241m.\u001b[39mindex,rotation \u001b[38;5;241m=\u001b[39m \u001b[38;5;241m75\u001b[39m)\n",
      "\u001b[1;31mNameError\u001b[0m: name 'sns' is not defined"
     ]
    },
    {
     "data": {
      "image/png": "[encoded data removed]",
      "text/plain": [
       "<Figure size 1440x360 with 2 Axes>"
      ]
     },
     "metadata": {
      "needs_background": "light"
     },
     "output_type": "display_data"
    }
   ],
   "source": [
    "#Affichage des chartes des Score des modéles \n",
    "import matplotlib.pyplot as plt\n",
    "\n",
    "fig,ax = plt.subplots(1,2,figsize=(20,5))\n",
    "sns.barplot(x = df_result_train.index,y = df_result_train.Score,ax = ax[0])\n",
    "sns.barplot(x = df_result_test.index,y = df_result_test.Score,ax = ax[1])\n",
    "ax[0].set_xticklabels(df_result_train.index,rotation = 75)\n",
    "ax[1].set_xticklabels(df_result_test.index,rotation = 75)\n",
    "plt.show()"
   ]
  },
  {
   "cell_type": "code",
   "execution_count": 19,
   "id": "c0636379",
   "metadata": {},
   "outputs": [
    {
     "data": {
      "text/html": [
       "<div>\n",
       "<style scoped>\n",
       "    .dataframe tbody tr th:only-of-type {\n",
       "        vertical-align: middle;\n",
       "    }\n",
       "\n",
       "    .dataframe tbody tr th {\n",
       "        vertical-align: top;\n",
       "    }\n",
       "\n",
       "    .dataframe thead th {\n",
       "        text-align: right;\n",
       "    }\n",
       "</style>\n",
       "<table border=\"1\" class=\"dataframe\">\n",
       "  <thead>\n",
       "    <tr style=\"text-align: right;\">\n",
       "      <th></th>\n",
       "      <th>Model</th>\n",
       "      <th>Accuracy</th>\n",
       "    </tr>\n",
       "  </thead>\n",
       "  <tbody>\n",
       "    <tr>\n",
       "      <th>1</th>\n",
       "      <td>RFC</td>\n",
       "      <td>100.0</td>\n",
       "    </tr>\n",
       "    <tr>\n",
       "      <th>3</th>\n",
       "      <td>Regression Logistique</td>\n",
       "      <td>95.0</td>\n",
       "    </tr>\n",
       "    <tr>\n",
       "      <th>4</th>\n",
       "      <td>NB</td>\n",
       "      <td>90.0</td>\n",
       "    </tr>\n",
       "    <tr>\n",
       "      <th>0</th>\n",
       "      <td>KNN</td>\n",
       "      <td>65.0</td>\n",
       "    </tr>\n",
       "    <tr>\n",
       "      <th>2</th>\n",
       "      <td>SVC</td>\n",
       "      <td>55.0</td>\n",
       "    </tr>\n",
       "  </tbody>\n",
       "</table>\n",
       "</div>"
      ],
      "text/plain": [
       "                   Model  Accuracy\n",
       "1                    RFC     100.0\n",
       "3  Regression Logistique      95.0\n",
       "4                     NB      90.0\n",
       "0                   KNN       65.0\n",
       "2                    SVC      55.0"
      ]
     },
     "execution_count": 19,
     "metadata": {},
     "output_type": "execute_result"
    }
   ],
   "source": [
    "#Les stocker dans un dataframe des Accuracies des algorithmes\n",
    "compare = pd.DataFrame({'Model': ['KNN ', 'RFC', 'SVC', 'Regression Logistique', 'NB'] ,\n",
    "                        'Accuracy': [KNN_Acc*100, RFC_Acc*100, SVC_Acc*100, REG_Acc*100, NB_Acc*100]})\n",
    "\n",
    "\n",
    "compare.sort_values(by='Accuracy', ascending=False)"
   ]
  },
  {
   "cell_type": "code",
   "execution_count": 20,
   "id": "27fb95c6",
   "metadata": {},
   "outputs": [
    {
     "data": {
      "image/png": "[encoded data removed]",
      "text/plain": [
       "<Figure size 1440x360 with 1 Axes>"
      ]
     },
     "metadata": {
      "needs_background": "light"
     },
     "output_type": "display_data"
    }
   ],
   "source": [
    "#Affichage des chartes des Score des modéles \n",
    "import matplotlib.pyplot as plt\n",
    "import seaborn as sns\n",
    "\n",
    "\n",
    "\n",
    "fig,ax = plt.subplots(1,figsize=(20,5))\n",
    "sns.barplot(x = compare.Model,y = compare.Accuracy)\n",
    "ax.set_xticklabels(compare.Model,rotation = 75)\n",
    "plt.show()"
   ]
  },
  {
   "cell_type": "code",
   "execution_count": null,
   "id": "31ea28c7",
   "metadata": {},
   "outputs": [],
   "source": []
  },
  {
   "cell_type": "code",
   "execution_count": null,
   "id": "e0e67198",
   "metadata": {},
   "outputs": [],
   "source": []
  },
  {
   "cell_type": "code",
   "execution_count": null,
   "id": "f5c96065",
   "metadata": {},
   "outputs": [],
   "source": []
  }
 ],
 "metadata": {
  "kernelspec": {
   "display_name": "Python 3 (ipykernel)",
   "language": "python",
   "name": "python3"
  },
  "language_info": {
   "codemirror_mode": {
    "name": "ipython",
    "version": 3
   },
   "file_extension": ".py",
   "mimetype": "text/x-python",
   "name": "python",
   "nbconvert_exporter": "python",
   "pygments_lexer": "ipython3",
   "version": "3.9.12"
  }
 },
 "nbformat": 4,
 "nbformat_minor": 5
}
